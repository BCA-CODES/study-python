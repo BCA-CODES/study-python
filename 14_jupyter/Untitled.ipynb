{
 "cells": [
  {
   "cell_type": "markdown",
   "id": "f7bc00e5-67df-48ec-a613-57d630dbf776",
   "metadata": {},
   "source": [
    "## Welcome to notebook"
   ]
  },
  {
   "cell_type": "code",
   "execution_count": 2,
   "id": "1e8afc46-a969-4eaf-afa0-2119032c990b",
   "metadata": {},
   "outputs": [
    {
     "name": "stdout",
     "output_type": "stream",
     "text": [
      "hello world!!\n"
     ]
    }
   ],
   "source": [
    "print(\"hello world!!\")"
   ]
  },
  {
   "cell_type": "code",
   "execution_count": 1,
   "id": "d7980e08-e810-4a15-ad9a-21d05452f882",
   "metadata": {},
   "outputs": [
    {
     "name": "stdout",
     "output_type": "stream",
     "text": [
      "2*3*4*5*6*"
     ]
    }
   ],
   "source": [
    "for i in range(2,7):\n",
    "    print(i, end=\"*\")"
   ]
  },
  {
   "cell_type": "code",
   "execution_count": null,
   "id": "9cd36df4-7590-42e1-873f-84b2a446bc02",
   "metadata": {},
   "outputs": [],
   "source": []
  }
 ],
 "metadata": {
  "kernelspec": {
   "display_name": "Python [conda env:base] *",
   "language": "python",
   "name": "conda-base-py"
  },
  "language_info": {
   "codemirror_mode": {
    "name": "ipython",
    "version": 3
   },
   "file_extension": ".py",
   "mimetype": "text/x-python",
   "name": "python",
   "nbconvert_exporter": "python",
   "pygments_lexer": "ipython3",
   "version": "3.12.7"
  }
 },
 "nbformat": 4,
 "nbformat_minor": 5
}
